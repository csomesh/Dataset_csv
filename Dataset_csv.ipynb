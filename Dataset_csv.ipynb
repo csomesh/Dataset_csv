{
 "cells": [
  {
   "cell_type": "code",
   "execution_count": 1,
   "metadata": {},
   "outputs": [],
   "source": [
    "import os\n",
    "import glob"
   ]
  },
  {
   "cell_type": "code",
   "execution_count": 2,
   "metadata": {},
   "outputs": [
    {
     "name": "stdout",
     "output_type": "stream",
     "text": [
      "['/home/somesh/practice/label/1.txt', '/home/somesh/practice/label/eiffel_tower.txt']\n",
      "['/home/somesh/practice/images/1.jpg', '/home/somesh/practice/images/eiffel_tower.jpg']\n"
     ]
    }
   ],
   "source": [
    "cwd = os.getcwd()\n",
    "label_path = glob.glob(cwd +\"/label/*.txt\")\n",
    "image_path = glob.glob(cwd +\"/images/*.jpg\")\n",
    "print(glob.glob(cwd +\"/label/*.txt\"))\n",
    "print(glob.glob(cwd +\"/images/*.jpg\"))"
   ]
  },
  {
   "cell_type": "code",
   "execution_count": 4,
   "metadata": {},
   "outputs": [
    {
     "name": "stdout",
     "output_type": "stream",
     "text": [
      "1\n",
      "\n",
      "eiffel tower\n",
      "\n",
      "['1\\n', 'eiffel tower\\n']\n"
     ]
    }
   ],
   "source": [
    "label_list = []\n",
    "for path in label_path:\n",
    "    with open(path,'r') as l:\n",
    "        label = l.readline()\n",
    "        print(label)\n",
    "        label_list.append(label)\n",
    "print(label_list)        "
   ]
  },
  {
   "cell_type": "code",
   "execution_count": 5,
   "metadata": {},
   "outputs": [],
   "source": [
    "with open('dataset.csv','w') as csv_file:\n",
    "    for (image, label) in zip(image_path, label_list):\n",
    "        label = label.strip('\\n')\n",
    "        length = len(str(label))\n",
    "        csv_line = image + ',' + label + ',' + str(length) + '\\n'\n",
    "        csv_file.write(csv_line)\n",
    "        "
   ]
  },
  {
   "cell_type": "code",
   "execution_count": null,
   "metadata": {},
   "outputs": [],
   "source": []
  }
 ],
 "metadata": {
  "kernelspec": {
   "display_name": "Python 3",
   "language": "python",
   "name": "python3"
  },
  "language_info": {
   "codemirror_mode": {
    "name": "ipython",
    "version": 3
   },
   "file_extension": ".py",
   "mimetype": "text/x-python",
   "name": "python",
   "nbconvert_exporter": "python",
   "pygments_lexer": "ipython3",
   "version": "3.6.4"
  }
 },
 "nbformat": 4,
 "nbformat_minor": 2
}
