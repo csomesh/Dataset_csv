{
 "cells": [
  {
   "cell_type": "code",
   "execution_count": 3,
   "metadata": {},
   "outputs": [],
   "source": [
    "import cv2\n",
    "import os"
   ]
  },
  {
   "cell_type": "code",
   "execution_count": 46,
   "metadata": {},
   "outputs": [
    {
     "data": {
      "text/plain": [
       "['.ipynb_checkpoints',\n",
       " 'BenthamDatasetR0-GT.tbz',\n",
       " 'tp.ipynb',\n",
       " 'BenthamDatasetR0-GT',\n",
       " 'BenthamDatasetR0-Images.tbz',\n",
       " 'images',\n",
       " 'BenthamDatasetR0-Images',\n",
       " 'Dataset_csv.ipynb',\n",
       " 'Image preprocessing.ipynb',\n",
       " '.git',\n",
       " 'dataset.csv',\n",
       " 'label']"
      ]
     },
     "execution_count": 46,
     "metadata": {},
     "output_type": "execute_result"
    }
   ],
   "source": [
    "cwd = os.getcwd()\n",
    "os.listdir()"
   ]
  },
  {
   "cell_type": "code",
   "execution_count": 41,
   "metadata": {},
   "outputs": [],
   "source": [
    "os.mkdir(cwd+'/BenthamDatasetR0-GT/Images/after')"
   ]
  },
  {
   "cell_type": "code",
   "execution_count": 45,
   "metadata": {},
   "outputs": [],
   "source": [
    "line_names = os.listdir(cwd+'/BenthamDatasetR0-GT/Images/Lines')"
   ]
  },
  {
   "cell_type": "code",
   "execution_count": 43,
   "metadata": {},
   "outputs": [],
   "source": [
    "for name in line_names:\n",
    "    line_path = cwd + '/BenthamDatasetR0-GT/Images/Lines/' + name\n",
    "    image = cv2.imread(line_path, cv2.IMREAD_UNCHANGED) \n",
    "    trans_mask = image[:,:,3] == 0\n",
    "    image[trans_mask] = [255, 255, 255, 255]\n",
    "    new_img = cv2.cvtColor(image, cv2.COLOR_BGRA2BGR)\n",
    "    cv2.imwrite(cwd+'/BenthamDatasetR0-GT/Images/after/' + name, new_img)"
   ]
  },
  {
   "cell_type": "code",
   "execution_count": 18,
   "metadata": {},
   "outputs": [],
   "source": []
  },
  {
   "cell_type": "code",
   "execution_count": 27,
   "metadata": {},
   "outputs": [
    {
     "data": {
      "text/plain": [
       "True"
      ]
     },
     "execution_count": 27,
     "metadata": {},
     "output_type": "execute_result"
    }
   ],
   "source": []
  }
 ],
 "metadata": {
  "kernelspec": {
   "display_name": "Python 3",
   "language": "python",
   "name": "python3"
  },
  "language_info": {
   "codemirror_mode": {
    "name": "ipython",
    "version": 3
   },
   "file_extension": ".py",
   "mimetype": "text/x-python",
   "name": "python",
   "nbconvert_exporter": "python",
   "pygments_lexer": "ipython3",
   "version": "3.6.4"
  }
 },
 "nbformat": 4,
 "nbformat_minor": 2
}
